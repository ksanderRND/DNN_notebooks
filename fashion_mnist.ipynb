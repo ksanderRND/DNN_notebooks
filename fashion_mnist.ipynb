{
 "cells": [
  {
   "cell_type": "code",
   "execution_count": 1,
   "metadata": {},
   "outputs": [
    {
     "name": "stderr",
     "output_type": "stream",
     "text": [
      "/home/alex/anaconda3/lib/python3.6/site-packages/h5py/__init__.py:36: FutureWarning: Conversion of the second argument of issubdtype from `float` to `np.floating` is deprecated. In future, it will be treated as `np.float64 == np.dtype(float).type`.\n",
      "  from ._conv import register_converters as _register_converters\n"
     ]
    }
   ],
   "source": [
    "from tensorflow.keras.datasets import fashion_mnist\n",
    "from tensorflow.keras.models import Sequential\n",
    "from tensorflow.keras.layers import Dense\n",
    "from tensorflow.keras import utils\n",
    "import numpy as np"
   ]
  },
  {
   "cell_type": "code",
   "execution_count": 2,
   "metadata": {},
   "outputs": [],
   "source": [
    "# load dataset\n",
    "(x_train, y_train), (x_test, y_test) = fashion_mnist.load_data()"
   ]
  },
  {
   "cell_type": "code",
   "execution_count": 3,
   "metadata": {},
   "outputs": [],
   "source": [
    "#image size conversion \n",
    "x_train = x_train.reshape(60000, 784)\n",
    "\n",
    "#normalization\n",
    "x_train = x_train / 255\n",
    "\n",
    "#Change labels to categories\n",
    "y_train = utils.to_categorical(y_train, 10)\n",
    "\n",
    "classes = ['T-shirt', 'Trouser', 'Pullover', 'Dress', 'Coat', 'Sandal', 'Shirt', 'Sneaker', 'Bag', 'Ankle boot']"
   ]
  },
  {
   "cell_type": "code",
   "execution_count": 4,
   "metadata": {},
   "outputs": [
    {
     "name": "stdout",
     "output_type": "stream",
     "text": [
      "_________________________________________________________________\n",
      "Layer (type)                 Output Shape              Param #   \n",
      "=================================================================\n",
      "dense (Dense)                (None, 800)               628000    \n",
      "_________________________________________________________________\n",
      "dense_1 (Dense)              (None, 10)                8010      \n",
      "=================================================================\n",
      "Total params: 636,010\n",
      "Trainable params: 636,010\n",
      "Non-trainable params: 0\n",
      "_________________________________________________________________\n",
      "None\n"
     ]
    }
   ],
   "source": [
    "#Create a sequential model\n",
    "model = Sequential()\n",
    "#Add layers\n",
    "model.add(Dense(800, input_dim=784, activation=\"relu\"))\n",
    "model.add(Dense(10, activation=\"softmax\"))\n",
    "\n",
    "#compiling the model\n",
    "model.compile(loss=\"categorical_crossentropy\", optimizer=\"SGD\", metrics=[\"accuracy\"])\n",
    "\n",
    "print(model.summary())"
   ]
  },
  {
   "cell_type": "code",
   "execution_count": 5,
   "metadata": {},
   "outputs": [
    {
     "name": "stdout",
     "output_type": "stream",
     "text": [
      "Train on 48000 samples, validate on 12000 samples\n",
      "Epoch 1/100\n",
      "48000/48000 [==============================] - 4s 92us/step - loss: 1.1941 - acc: 0.6504 - val_loss: 0.8417 - val_acc: 0.7417\n",
      "Epoch 2/100\n",
      "48000/48000 [==============================] - 5s 112us/step - loss: 0.7651 - acc: 0.7611 - val_loss: 0.6958 - val_acc: 0.7814\n",
      "Epoch 3/100\n",
      "48000/48000 [==============================] - 4s 91us/step - loss: 0.6656 - acc: 0.7912 - val_loss: 0.6311 - val_acc: 0.7961\n",
      "Epoch 4/100\n",
      "48000/48000 [==============================] - 4s 87us/step - loss: 0.6116 - acc: 0.8058 - val_loss: 0.5898 - val_acc: 0.8099\n",
      "Epoch 5/100\n",
      "48000/48000 [==============================] - 4s 86us/step - loss: 0.5768 - acc: 0.8143 - val_loss: 0.5632 - val_acc: 0.8167\n",
      "Epoch 6/100\n",
      "48000/48000 [==============================] - 4s 89us/step - loss: 0.5514 - acc: 0.8218 - val_loss: 0.5439 - val_acc: 0.8195\n",
      "Epoch 7/100\n",
      "48000/48000 [==============================] - 4s 88us/step - loss: 0.5324 - acc: 0.8252 - val_loss: 0.5266 - val_acc: 0.8249\n",
      "Epoch 8/100\n",
      "48000/48000 [==============================] - 4s 87us/step - loss: 0.5171 - acc: 0.8298 - val_loss: 0.5136 - val_acc: 0.8284\n",
      "Epoch 9/100\n",
      "48000/48000 [==============================] - 4s 89us/step - loss: 0.5047 - acc: 0.8334 - val_loss: 0.5034 - val_acc: 0.8298\n",
      "Epoch 10/100\n",
      "48000/48000 [==============================] - 4s 87us/step - loss: 0.4936 - acc: 0.8362 - val_loss: 0.4945 - val_acc: 0.8312\n",
      "Epoch 11/100\n",
      "48000/48000 [==============================] - 4s 88us/step - loss: 0.4843 - acc: 0.8383 - val_loss: 0.4872 - val_acc: 0.8345\n",
      "Epoch 12/100\n",
      "48000/48000 [==============================] - 4s 88us/step - loss: 0.4767 - acc: 0.8402 - val_loss: 0.4816 - val_acc: 0.8352\n",
      "Epoch 13/100\n",
      "48000/48000 [==============================] - 4s 88us/step - loss: 0.4689 - acc: 0.8430 - val_loss: 0.4743 - val_acc: 0.8369\n",
      "Epoch 14/100\n",
      "48000/48000 [==============================] - 4s 90us/step - loss: 0.4631 - acc: 0.8444 - val_loss: 0.4711 - val_acc: 0.8366\n",
      "Epoch 15/100\n",
      "48000/48000 [==============================] - 4s 89us/step - loss: 0.4569 - acc: 0.8461 - val_loss: 0.4635 - val_acc: 0.8387\n",
      "Epoch 16/100\n",
      "48000/48000 [==============================] - 4s 88us/step - loss: 0.4522 - acc: 0.8475 - val_loss: 0.4599 - val_acc: 0.8391\n",
      "Epoch 17/100\n",
      "48000/48000 [==============================] - 4s 94us/step - loss: 0.4469 - acc: 0.8490 - val_loss: 0.4548 - val_acc: 0.8415\n",
      "Epoch 18/100\n",
      "48000/48000 [==============================] - 5s 114us/step - loss: 0.4429 - acc: 0.8505 - val_loss: 0.4504 - val_acc: 0.8425\n",
      "Epoch 19/100\n",
      "48000/48000 [==============================] - 4s 88us/step - loss: 0.4384 - acc: 0.8522 - val_loss: 0.4479 - val_acc: 0.8445\n",
      "Epoch 20/100\n",
      "48000/48000 [==============================] - 4s 90us/step - loss: 0.4343 - acc: 0.8525 - val_loss: 0.4443 - val_acc: 0.8448\n",
      "Epoch 21/100\n",
      "48000/48000 [==============================] - 5s 106us/step - loss: 0.4308 - acc: 0.8543 - val_loss: 0.4432 - val_acc: 0.8468\n",
      "Epoch 22/100\n",
      "48000/48000 [==============================] - 4s 89us/step - loss: 0.4271 - acc: 0.8555 - val_loss: 0.4372 - val_acc: 0.8497\n",
      "Epoch 23/100\n",
      "48000/48000 [==============================] - 5s 111us/step - loss: 0.4239 - acc: 0.8568 - val_loss: 0.4359 - val_acc: 0.8469\n",
      "Epoch 24/100\n",
      "48000/48000 [==============================] - 4s 82us/step - loss: 0.4207 - acc: 0.8567 - val_loss: 0.4338 - val_acc: 0.8498\n",
      "Epoch 25/100\n",
      "48000/48000 [==============================] - 4s 77us/step - loss: 0.4181 - acc: 0.8578 - val_loss: 0.4301 - val_acc: 0.8508\n",
      "Epoch 26/100\n",
      "48000/48000 [==============================] - 4s 76us/step - loss: 0.4149 - acc: 0.8596 - val_loss: 0.4284 - val_acc: 0.8523\n",
      "Epoch 27/100\n",
      "48000/48000 [==============================] - 4s 77us/step - loss: 0.4122 - acc: 0.8598 - val_loss: 0.4269 - val_acc: 0.8536\n",
      "Epoch 28/100\n",
      "48000/48000 [==============================] - 4s 87us/step - loss: 0.4096 - acc: 0.8604 - val_loss: 0.4230 - val_acc: 0.8531\n",
      "Epoch 29/100\n",
      "48000/48000 [==============================] - 4s 78us/step - loss: 0.4070 - acc: 0.8607 - val_loss: 0.4208 - val_acc: 0.8551\n",
      "Epoch 30/100\n",
      "48000/48000 [==============================] - 4s 79us/step - loss: 0.4049 - acc: 0.8616 - val_loss: 0.4219 - val_acc: 0.8543\n",
      "Epoch 31/100\n",
      "48000/48000 [==============================] - 5s 105us/step - loss: 0.4026 - acc: 0.8629 - val_loss: 0.4179 - val_acc: 0.8560\n",
      "Epoch 32/100\n",
      "48000/48000 [==============================] - 5s 95us/step - loss: 0.4003 - acc: 0.8632 - val_loss: 0.4149 - val_acc: 0.8568\n",
      "Epoch 33/100\n",
      "48000/48000 [==============================] - 4s 78us/step - loss: 0.3982 - acc: 0.8642 - val_loss: 0.4176 - val_acc: 0.8559\n",
      "Epoch 34/100\n",
      "48000/48000 [==============================] - 4s 80us/step - loss: 0.3963 - acc: 0.8649 - val_loss: 0.4128 - val_acc: 0.8570\n",
      "Epoch 35/100\n",
      "48000/48000 [==============================] - 4s 76us/step - loss: 0.3937 - acc: 0.8662 - val_loss: 0.4114 - val_acc: 0.8571\n",
      "Epoch 36/100\n",
      "48000/48000 [==============================] - 4s 79us/step - loss: 0.3919 - acc: 0.8654 - val_loss: 0.4083 - val_acc: 0.8580\n",
      "Epoch 37/100\n",
      "48000/48000 [==============================] - 5s 97us/step - loss: 0.3902 - acc: 0.8673 - val_loss: 0.4079 - val_acc: 0.8582\n",
      "Epoch 38/100\n",
      "48000/48000 [==============================] - 4s 77us/step - loss: 0.3883 - acc: 0.8673 - val_loss: 0.4060 - val_acc: 0.8571\n",
      "Epoch 39/100\n",
      "48000/48000 [==============================] - 4s 88us/step - loss: 0.3862 - acc: 0.8686 - val_loss: 0.4039 - val_acc: 0.8583\n",
      "Epoch 40/100\n",
      "48000/48000 [==============================] - 5s 114us/step - loss: 0.3846 - acc: 0.8688 - val_loss: 0.4025 - val_acc: 0.8580\n",
      "Epoch 41/100\n",
      "48000/48000 [==============================] - 4s 81us/step - loss: 0.3828 - acc: 0.8690 - val_loss: 0.4047 - val_acc: 0.8599\n",
      "Epoch 42/100\n",
      "48000/48000 [==============================] - 4s 78us/step - loss: 0.3810 - acc: 0.8691 - val_loss: 0.4037 - val_acc: 0.8583\n",
      "Epoch 43/100\n",
      "48000/48000 [==============================] - 4s 75us/step - loss: 0.3791 - acc: 0.8708 - val_loss: 0.4010 - val_acc: 0.8595\n",
      "Epoch 44/100\n",
      "48000/48000 [==============================] - 4s 78us/step - loss: 0.3778 - acc: 0.8710 - val_loss: 0.3978 - val_acc: 0.8617\n",
      "Epoch 45/100\n",
      "48000/48000 [==============================] - 4s 90us/step - loss: 0.3760 - acc: 0.8712 - val_loss: 0.3995 - val_acc: 0.8612\n",
      "Epoch 46/100\n",
      "48000/48000 [==============================] - 4s 82us/step - loss: 0.3749 - acc: 0.8723 - val_loss: 0.3975 - val_acc: 0.8608\n",
      "Epoch 47/100\n",
      "48000/48000 [==============================] - 4s 85us/step - loss: 0.3732 - acc: 0.8723 - val_loss: 0.3980 - val_acc: 0.8612\n",
      "Epoch 48/100\n",
      "48000/48000 [==============================] - 4s 85us/step - loss: 0.3718 - acc: 0.8729 - val_loss: 0.3944 - val_acc: 0.8613\n",
      "Epoch 49/100\n",
      "48000/48000 [==============================] - 5s 94us/step - loss: 0.3700 - acc: 0.8729 - val_loss: 0.3926 - val_acc: 0.8632\n",
      "Epoch 50/100\n",
      "48000/48000 [==============================] - 5s 99us/step - loss: 0.3684 - acc: 0.8732 - val_loss: 0.3927 - val_acc: 0.8618\n",
      "Epoch 51/100\n",
      "48000/48000 [==============================] - 4s 81us/step - loss: 0.3670 - acc: 0.8743 - val_loss: 0.3913 - val_acc: 0.8630\n",
      "Epoch 52/100\n",
      "48000/48000 [==============================] - 5s 99us/step - loss: 0.3653 - acc: 0.8743 - val_loss: 0.3898 - val_acc: 0.8628\n",
      "Epoch 53/100\n",
      "48000/48000 [==============================] - 4s 84us/step - loss: 0.3647 - acc: 0.8755 - val_loss: 0.3975 - val_acc: 0.8608\n",
      "Epoch 54/100\n",
      "48000/48000 [==============================] - 4s 78us/step - loss: 0.3634 - acc: 0.8752 - val_loss: 0.3891 - val_acc: 0.8637\n",
      "Epoch 55/100\n",
      "48000/48000 [==============================] - 4s 76us/step - loss: 0.3620 - acc: 0.8757 - val_loss: 0.3884 - val_acc: 0.8650\n",
      "Epoch 56/100\n",
      "48000/48000 [==============================] - 4s 78us/step - loss: 0.3606 - acc: 0.8765 - val_loss: 0.3851 - val_acc: 0.8648\n",
      "Epoch 57/100\n",
      "48000/48000 [==============================] - 3s 72us/step - loss: 0.3592 - acc: 0.8767 - val_loss: 0.3841 - val_acc: 0.8642\n",
      "Epoch 58/100\n",
      "48000/48000 [==============================] - 3s 72us/step - loss: 0.3582 - acc: 0.8768 - val_loss: 0.3853 - val_acc: 0.8653\n",
      "Epoch 59/100\n"
     ]
    },
    {
     "name": "stdout",
     "output_type": "stream",
     "text": [
      "48000/48000 [==============================] - 3s 72us/step - loss: 0.3565 - acc: 0.8773 - val_loss: 0.3849 - val_acc: 0.8644\n",
      "Epoch 60/100\n",
      "48000/48000 [==============================] - 3s 69us/step - loss: 0.3556 - acc: 0.8778 - val_loss: 0.3820 - val_acc: 0.8645\n",
      "Epoch 61/100\n",
      "48000/48000 [==============================] - 3s 72us/step - loss: 0.3545 - acc: 0.8785 - val_loss: 0.3801 - val_acc: 0.8667\n",
      "Epoch 62/100\n",
      "48000/48000 [==============================] - 3s 71us/step - loss: 0.3530 - acc: 0.8789 - val_loss: 0.3793 - val_acc: 0.8665\n",
      "Epoch 63/100\n",
      "48000/48000 [==============================] - 3s 71us/step - loss: 0.3519 - acc: 0.8787 - val_loss: 0.3818 - val_acc: 0.8658\n",
      "Epoch 64/100\n",
      "48000/48000 [==============================] - 4s 73us/step - loss: 0.3509 - acc: 0.8791 - val_loss: 0.3783 - val_acc: 0.8663\n",
      "Epoch 65/100\n",
      "48000/48000 [==============================] - 4s 75us/step - loss: 0.3495 - acc: 0.8791 - val_loss: 0.3775 - val_acc: 0.8680\n",
      "Epoch 66/100\n",
      "48000/48000 [==============================] - 3s 69us/step - loss: 0.3489 - acc: 0.8798 - val_loss: 0.3767 - val_acc: 0.8677\n",
      "Epoch 67/100\n",
      "48000/48000 [==============================] - 3s 72us/step - loss: 0.3472 - acc: 0.8802 - val_loss: 0.3786 - val_acc: 0.8667\n",
      "Epoch 68/100\n",
      "48000/48000 [==============================] - 3s 69us/step - loss: 0.3466 - acc: 0.8801 - val_loss: 0.3765 - val_acc: 0.8673\n",
      "Epoch 69/100\n",
      "48000/48000 [==============================] - 3s 70us/step - loss: 0.3456 - acc: 0.8813 - val_loss: 0.3744 - val_acc: 0.8677\n",
      "Epoch 70/100\n",
      "48000/48000 [==============================] - 4s 76us/step - loss: 0.3438 - acc: 0.8812 - val_loss: 0.3739 - val_acc: 0.8694\n",
      "Epoch 71/100\n",
      "48000/48000 [==============================] - 4s 73us/step - loss: 0.3432 - acc: 0.8817 - val_loss: 0.3745 - val_acc: 0.8667\n",
      "Epoch 72/100\n",
      "48000/48000 [==============================] - 4s 74us/step - loss: 0.3423 - acc: 0.8824 - val_loss: 0.3736 - val_acc: 0.8680\n",
      "Epoch 73/100\n",
      "48000/48000 [==============================] - 4s 79us/step - loss: 0.3411 - acc: 0.8826 - val_loss: 0.3738 - val_acc: 0.8678\n",
      "Epoch 74/100\n",
      "48000/48000 [==============================] - 4s 73us/step - loss: 0.3400 - acc: 0.8822 - val_loss: 0.3719 - val_acc: 0.8695\n",
      "Epoch 75/100\n",
      "48000/48000 [==============================] - 3s 71us/step - loss: 0.3391 - acc: 0.8822 - val_loss: 0.3766 - val_acc: 0.8688\n",
      "Epoch 76/100\n",
      "48000/48000 [==============================] - 3s 67us/step - loss: 0.3385 - acc: 0.8831 - val_loss: 0.3742 - val_acc: 0.8701\n",
      "Epoch 77/100\n",
      "48000/48000 [==============================] - 3s 72us/step - loss: 0.3373 - acc: 0.8830 - val_loss: 0.3686 - val_acc: 0.8710\n",
      "Epoch 78/100\n",
      "48000/48000 [==============================] - 3s 73us/step - loss: 0.3364 - acc: 0.8832 - val_loss: 0.3693 - val_acc: 0.8699\n",
      "Epoch 79/100\n",
      "48000/48000 [==============================] - 3s 71us/step - loss: 0.3355 - acc: 0.8827 - val_loss: 0.3670 - val_acc: 0.8702\n",
      "Epoch 80/100\n",
      "48000/48000 [==============================] - 4s 73us/step - loss: 0.3345 - acc: 0.8845 - val_loss: 0.3680 - val_acc: 0.8722\n",
      "Epoch 81/100\n",
      "48000/48000 [==============================] - 3s 70us/step - loss: 0.3336 - acc: 0.8847 - val_loss: 0.3668 - val_acc: 0.8707\n",
      "Epoch 82/100\n",
      "48000/48000 [==============================] - 3s 70us/step - loss: 0.3324 - acc: 0.8855 - val_loss: 0.3658 - val_acc: 0.8715\n",
      "Epoch 83/100\n",
      "48000/48000 [==============================] - 4s 74us/step - loss: 0.3315 - acc: 0.8848 - val_loss: 0.3672 - val_acc: 0.8703\n",
      "Epoch 84/100\n",
      "48000/48000 [==============================] - 4s 74us/step - loss: 0.3306 - acc: 0.8858 - val_loss: 0.3674 - val_acc: 0.8723\n",
      "Epoch 85/100\n",
      "48000/48000 [==============================] - 4s 78us/step - loss: 0.3299 - acc: 0.8852 - val_loss: 0.3682 - val_acc: 0.8702\n",
      "Epoch 86/100\n",
      "48000/48000 [==============================] - 4s 74us/step - loss: 0.3292 - acc: 0.8858 - val_loss: 0.3642 - val_acc: 0.8719\n",
      "Epoch 87/100\n",
      "48000/48000 [==============================] - 4s 77us/step - loss: 0.3280 - acc: 0.8861 - val_loss: 0.3657 - val_acc: 0.8715\n",
      "Epoch 88/100\n",
      "48000/48000 [==============================] - 3s 65us/step - loss: 0.3270 - acc: 0.8870 - val_loss: 0.3632 - val_acc: 0.8720\n",
      "Epoch 89/100\n",
      "48000/48000 [==============================] - 3s 71us/step - loss: 0.3259 - acc: 0.8871 - val_loss: 0.3656 - val_acc: 0.8723\n",
      "Epoch 90/100\n",
      "48000/48000 [==============================] - 4s 75us/step - loss: 0.3255 - acc: 0.8870 - val_loss: 0.3620 - val_acc: 0.8732\n",
      "Epoch 91/100\n",
      "48000/48000 [==============================] - 3s 71us/step - loss: 0.3244 - acc: 0.8876 - val_loss: 0.3630 - val_acc: 0.8703\n",
      "Epoch 92/100\n",
      "48000/48000 [==============================] - 3s 71us/step - loss: 0.3236 - acc: 0.8881 - val_loss: 0.3633 - val_acc: 0.8738\n",
      "Epoch 93/100\n",
      "48000/48000 [==============================] - 3s 67us/step - loss: 0.3225 - acc: 0.8881 - val_loss: 0.3603 - val_acc: 0.8730\n",
      "Epoch 94/100\n",
      "48000/48000 [==============================] - 4s 74us/step - loss: 0.3218 - acc: 0.8881 - val_loss: 0.3600 - val_acc: 0.8727\n",
      "Epoch 95/100\n",
      "48000/48000 [==============================] - 3s 68us/step - loss: 0.3212 - acc: 0.8884 - val_loss: 0.3591 - val_acc: 0.8745\n",
      "Epoch 96/100\n",
      "48000/48000 [==============================] - 4s 75us/step - loss: 0.3202 - acc: 0.8895 - val_loss: 0.3579 - val_acc: 0.8732\n",
      "Epoch 97/100\n",
      "48000/48000 [==============================] - 3s 72us/step - loss: 0.3195 - acc: 0.8885 - val_loss: 0.3594 - val_acc: 0.8731\n",
      "Epoch 98/100\n",
      "48000/48000 [==============================] - 3s 68us/step - loss: 0.3187 - acc: 0.8886 - val_loss: 0.3574 - val_acc: 0.8746\n",
      "Epoch 99/100\n",
      "48000/48000 [==============================] - 3s 71us/step - loss: 0.3177 - acc: 0.8895 - val_loss: 0.3584 - val_acc: 0.8741\n",
      "Epoch 100/100\n",
      "48000/48000 [==============================] - 3s 70us/step - loss: 0.3170 - acc: 0.8896 - val_loss: 0.3559 - val_acc: 0.8745\n"
     ]
    }
   ],
   "source": [
    "#model.fit(x_train, y_train, batch_size=200, epochs=100, verbose=1)\n",
    "history = model.fit(x_train, y_train, \n",
    "                    batch_size=200, \n",
    "                    epochs=100,\n",
    "                    validation_split=0.2,\n",
    "                    verbose=1)"
   ]
  },
  {
   "cell_type": "code",
   "execution_count": 6,
   "metadata": {},
   "outputs": [
    {
     "name": "stdout",
     "output_type": "stream",
     "text": [
      "[6.6234889e-09 2.2481265e-10 2.7780361e-10 8.9182978e-10 3.6988010e-10\n",
      " 2.5141909e-04 4.0274088e-08 1.4373331e-03 5.5157302e-06 9.9830568e-01]\n",
      "predicted class:  9\n",
      "real class:  9\n"
     ]
    }
   ],
   "source": [
    "predictions = model.predict(x_train)\n",
    "\n",
    "print(predictions[0])\n",
    "\n",
    "print('predicted class: ', np.argmax(predictions[0]))\n",
    "\n",
    "print('real class: ', np.argmax(y_train[0]))"
   ]
  },
  {
   "cell_type": "code",
   "execution_count": 7,
   "metadata": {},
   "outputs": [],
   "source": [
    "x_test = x_test.reshape(10000, 784)\n",
    "x_test = x_test / 255\n",
    "y_test = utils.to_categorical(y_test, 10)"
   ]
  },
  {
   "cell_type": "code",
   "execution_count": 8,
   "metadata": {},
   "outputs": [
    {
     "name": "stdout",
     "output_type": "stream",
     "text": [
      "10000/10000 [==============================] - 1s 73us/step\n",
      "Percentage of the right answers on the test set:  86.84\n"
     ]
    }
   ],
   "source": [
    "scores = model.evaluate(x_test, y_test, verbose=1)\n",
    "\n",
    "print(\"Percentage of the right answers on the test set: \", round(scores[1]*100,4))"
   ]
  },
  {
   "cell_type": "code",
   "execution_count": null,
   "metadata": {},
   "outputs": [],
   "source": []
  }
 ],
 "metadata": {
  "kernelspec": {
   "display_name": "Python 3",
   "language": "python",
   "name": "python3"
  },
  "language_info": {
   "codemirror_mode": {
    "name": "ipython",
    "version": 3
   },
   "file_extension": ".py",
   "mimetype": "text/x-python",
   "name": "python",
   "nbconvert_exporter": "python",
   "pygments_lexer": "ipython3",
   "version": "3.6.4"
  }
 },
 "nbformat": 4,
 "nbformat_minor": 2
}
