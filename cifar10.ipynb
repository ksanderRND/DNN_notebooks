{
 "cells": [
  {
   "cell_type": "code",
   "execution_count": 1,
   "metadata": {},
   "outputs": [
    {
     "name": "stderr",
     "output_type": "stream",
     "text": [
      "/home/alex/anaconda3/lib/python3.6/site-packages/h5py/__init__.py:36: FutureWarning: Conversion of the second argument of issubdtype from `float` to `np.floating` is deprecated. In future, it will be treated as `np.float64 == np.dtype(float).type`.\n",
      "  from ._conv import register_converters as _register_converters\n",
      "Using TensorFlow backend.\n"
     ]
    }
   ],
   "source": [
    "import numpy as np\n",
    "from keras.datasets import cifar10\n",
    "from keras.models import Sequential\n",
    "from keras.layers import Dense, Flatten\n",
    "from keras.layers import Dropout\n",
    "from keras.layers.convolutional import Conv2D, MaxPooling2D\n",
    "from keras.utils import np_utils\n",
    "from keras.preprocessing import image\n",
    "import matplotlib.pyplot as plt\n",
    "from scipy.misc import toimage\n",
    "%matplotlib inline "
   ]
  },
  {
   "cell_type": "code",
   "execution_count": 2,
   "metadata": {},
   "outputs": [],
   "source": [
    "batch_size = 128\n",
    "nb_classes = 10\n",
    "nb_epoch = 25\n",
    "# image size\n",
    "img_rows, img_cols = 32, 32\n",
    "# RGB channels\n",
    "img_channels = 3\n",
    "# Name of classes from CIFAR-10 dataset\n",
    "classes=['plane', 'car', 'bird', 'cat', 'deer', 'dog', 'frog', 'horse', 'ship', 'truck']"
   ]
  },
  {
   "cell_type": "code",
   "execution_count": 3,
   "metadata": {},
   "outputs": [],
   "source": [
    "(X_train, y_train), (X_test, y_test) = cifar10.load_data()"
   ]
  },
  {
   "cell_type": "code",
   "execution_count": 4,
   "metadata": {},
   "outputs": [
    {
     "name": "stderr",
     "output_type": "stream",
     "text": [
      "/home/alex/anaconda3/lib/python3.6/site-packages/ipykernel_launcher.py:2: DeprecationWarning: `toimage` is deprecated!\n",
      "`toimage` is deprecated in SciPy 1.0.0, and will be removed in 1.2.0.\n",
      "Use Pillow's ``Image.fromarray`` directly instead.\n",
      "  \n"
     ]
    },
    {
     "data": {
      "image/png": "[encoded data removed]",
      "text/plain": [
       "<matplotlib.figure.Figure at 0x7f6994f97550>"
      ]
     },
     "metadata": {},
     "output_type": "display_data"
    },
    {
     "name": "stdout",
     "output_type": "stream",
     "text": [
      "Class number: [9]\n",
      "Object type: truck\n"
     ]
    }
   ],
   "source": [
    "n = 1\n",
    "plt.imshow(toimage(X_train[n]))\n",
    "plt.show()\n",
    "print(\"Class number:\", y_train[n])\n",
    "print(\"Object type:\", classes[y_train[n][0]])"
   ]
  },
  {
   "cell_type": "code",
   "execution_count": 5,
   "metadata": {},
   "outputs": [],
   "source": [
    "X_train = X_train.astype('float32')\n",
    "X_test = X_test.astype('float32')\n",
    "X_train /= 255\n",
    "X_test /= 255"
   ]
  },
  {
   "cell_type": "code",
   "execution_count": 6,
   "metadata": {},
   "outputs": [],
   "source": [
    "Y_train = np_utils.to_categorical(y_train, nb_classes)\n",
    "Y_test = np_utils.to_categorical(y_test, nb_classes)"
   ]
  },
  {
   "cell_type": "code",
   "execution_count": 7,
   "metadata": {},
   "outputs": [],
   "source": [
    "# Create a sequential model\n",
    "model = Sequential()\n",
    "# First convolutional layer\n",
    "model.add(Conv2D(32, (3, 3), padding='same',\n",
    "                        input_shape=(32, 32, 3), activation='relu'))\n",
    "# Second convolutional layer\n",
    "model.add(Conv2D(32, (3, 3), activation='relu', padding='same'))\n",
    "# First subsample layer\n",
    "model.add(MaxPooling2D(pool_size=(2, 2)))\n",
    "# Regularization layer Dropout\n",
    "model.add(Dropout(0.25))\n",
    "\n",
    "# Third convolutional layer\n",
    "model.add(Conv2D(64, (3, 3), padding='same', activation='relu'))\n",
    "# Fourth convolutional layer\n",
    "model.add(Conv2D(64, (3, 3), activation='relu'))\n",
    "# Second subsample layer\n",
    "model.add(MaxPooling2D(pool_size=(2, 2)))\n",
    "# Regularization layer Dropout\n",
    "model.add(Dropout(0.25))\n",
    "# Layer of conversion from 2D data to flat view\n",
    "model.add(Flatten())\n",
    "# Fully connected layer for classification\n",
    "model.add(Dense(512, activation='relu'))\n",
    "# Regularization layer Dropout\n",
    "model.add(Dropout(0.5))\n",
    "# Outcome fully connected layer\n",
    "model.add(Dense(nb_classes, activation='softmax'))"
   ]
  },
  {
   "cell_type": "code",
   "execution_count": 8,
   "metadata": {},
   "outputs": [
    {
     "name": "stdout",
     "output_type": "stream",
     "text": [
      "_________________________________________________________________\n",
      "Layer (type)                 Output Shape              Param #   \n",
      "=================================================================\n",
      "conv2d_1 (Conv2D)            (None, 32, 32, 32)        896       \n",
      "_________________________________________________________________\n",
      "conv2d_2 (Conv2D)            (None, 32, 32, 32)        9248      \n",
      "_________________________________________________________________\n",
      "max_pooling2d_1 (MaxPooling2 (None, 16, 16, 32)        0         \n",
      "_________________________________________________________________\n",
      "dropout_1 (Dropout)          (None, 16, 16, 32)        0         \n",
      "_________________________________________________________________\n",
      "conv2d_3 (Conv2D)            (None, 16, 16, 64)        18496     \n",
      "_________________________________________________________________\n",
      "conv2d_4 (Conv2D)            (None, 14, 14, 64)        36928     \n",
      "_________________________________________________________________\n",
      "max_pooling2d_2 (MaxPooling2 (None, 7, 7, 64)          0         \n",
      "_________________________________________________________________\n",
      "dropout_2 (Dropout)          (None, 7, 7, 64)          0         \n",
      "_________________________________________________________________\n",
      "flatten_1 (Flatten)          (None, 3136)              0         \n",
      "_________________________________________________________________\n",
      "dense_1 (Dense)              (None, 512)               1606144   \n",
      "_________________________________________________________________\n",
      "dropout_3 (Dropout)          (None, 512)               0         \n",
      "_________________________________________________________________\n",
      "dense_2 (Dense)              (None, 10)                5130      \n",
      "=================================================================\n",
      "Total params: 1,676,842\n",
      "Trainable params: 1,676,842\n",
      "Non-trainable params: 0\n",
      "_________________________________________________________________\n",
      "None\n"
     ]
    }
   ],
   "source": [
    "print(model.summary())"
   ]
  },
  {
   "cell_type": "code",
   "execution_count": 9,
   "metadata": {},
   "outputs": [],
   "source": [
    "model.compile(loss='categorical_crossentropy',\n",
    "              optimizer='adam',\n",
    "              metrics=['accuracy'])"
   ]
  },
  {
   "cell_type": "code",
   "execution_count": 10,
   "metadata": {},
   "outputs": [
    {
     "name": "stdout",
     "output_type": "stream",
     "text": [
      "Train on 45000 samples, validate on 5000 samples\n",
      "Epoch 1/25\n",
      " - 83s - loss: 1.6392 - acc: 0.4019 - val_loss: 1.2647 - val_acc: 0.5468\n",
      "Epoch 2/25\n",
      " - 93s - loss: 1.2145 - acc: 0.5634 - val_loss: 0.9752 - val_acc: 0.6568\n",
      "Epoch 3/25\n",
      " - 91s - loss: 1.0277 - acc: 0.6340 - val_loss: 0.8614 - val_acc: 0.6958\n",
      "Epoch 4/25\n",
      " - 90s - loss: 0.9135 - acc: 0.6788 - val_loss: 0.7866 - val_acc: 0.7258\n",
      "Epoch 5/25\n",
      " - 102s - loss: 0.8277 - acc: 0.7094 - val_loss: 0.7718 - val_acc: 0.7328\n",
      "Epoch 6/25\n",
      " - 112s - loss: 0.7656 - acc: 0.7297 - val_loss: 0.7065 - val_acc: 0.7626\n",
      "Epoch 7/25\n",
      " - 98s - loss: 0.7122 - acc: 0.7477 - val_loss: 0.6971 - val_acc: 0.7536\n",
      "Epoch 8/25\n",
      " - 89s - loss: 0.6738 - acc: 0.7619 - val_loss: 0.6392 - val_acc: 0.7816\n",
      "Epoch 9/25\n",
      " - 88s - loss: 0.6297 - acc: 0.7786 - val_loss: 0.6841 - val_acc: 0.7650\n",
      "Epoch 10/25\n",
      " - 88s - loss: 0.6032 - acc: 0.7868 - val_loss: 0.6083 - val_acc: 0.7938\n",
      "Epoch 11/25\n",
      " - 92s - loss: 0.5658 - acc: 0.7979 - val_loss: 0.6197 - val_acc: 0.7938\n",
      "Epoch 12/25\n",
      " - 92s - loss: 0.5333 - acc: 0.8117 - val_loss: 0.6042 - val_acc: 0.7944\n",
      "Epoch 13/25\n",
      " - 91s - loss: 0.5102 - acc: 0.8168 - val_loss: 0.6179 - val_acc: 0.7888\n",
      "Epoch 14/25\n",
      " - 88s - loss: 0.4838 - acc: 0.8300 - val_loss: 0.6147 - val_acc: 0.7940\n",
      "Epoch 15/25\n",
      " - 90s - loss: 0.4607 - acc: 0.8353 - val_loss: 0.5975 - val_acc: 0.7980\n",
      "Epoch 16/25\n",
      " - 89s - loss: 0.4461 - acc: 0.8409 - val_loss: 0.6059 - val_acc: 0.8056\n",
      "Epoch 17/25\n",
      " - 99s - loss: 0.4228 - acc: 0.8497 - val_loss: 0.6070 - val_acc: 0.8022\n",
      "Epoch 18/25\n",
      " - 97s - loss: 0.4148 - acc: 0.8514 - val_loss: 0.6220 - val_acc: 0.7948\n",
      "Epoch 19/25\n",
      " - 89s - loss: 0.4015 - acc: 0.8581 - val_loss: 0.6085 - val_acc: 0.8052\n",
      "Epoch 20/25\n",
      " - 91s - loss: 0.3792 - acc: 0.8634 - val_loss: 0.6164 - val_acc: 0.7972\n",
      "Epoch 21/25\n",
      " - 91s - loss: 0.3612 - acc: 0.8708 - val_loss: 0.6083 - val_acc: 0.8072\n",
      "Epoch 22/25\n",
      " - 95s - loss: 0.3586 - acc: 0.8704 - val_loss: 0.6206 - val_acc: 0.8126\n",
      "Epoch 23/25\n",
      " - 109s - loss: 0.3501 - acc: 0.8770 - val_loss: 0.6121 - val_acc: 0.8038\n",
      "Epoch 24/25\n",
      " - 117s - loss: 0.3373 - acc: 0.8791 - val_loss: 0.6150 - val_acc: 0.8034\n",
      "Epoch 25/25\n",
      " - 117s - loss: 0.3260 - acc: 0.8836 - val_loss: 0.6292 - val_acc: 0.8072\n"
     ]
    }
   ],
   "source": [
    "history = model.fit(X_train, Y_train,\n",
    "              batch_size=batch_size,\n",
    "              epochs=nb_epoch,\n",
    "              validation_split=0.1,\n",
    "              shuffle=True,\n",
    "              verbose=2)"
   ]
  },
  {
   "cell_type": "code",
   "execution_count": 11,
   "metadata": {},
   "outputs": [
    {
     "name": "stdout",
     "output_type": "stream",
     "text": [
      "Quality on the test dataset: 79.48%\n"
     ]
    }
   ],
   "source": [
    "# Evaluate the quality of the model on test set\n",
    "scores = model.evaluate(X_test, Y_test, verbose=0)\n",
    "print(\"Quality on the test dataset: %.2f%%\" % (scores[1]*100))"
   ]
  },
  {
   "cell_type": "code",
   "execution_count": 12,
   "metadata": {},
   "outputs": [
    {
     "data": {
      "image/png": "[encoded data removed]",
      "text/plain": [
       "<matplotlib.figure.Figure at 0x7f698c1734a8>"
      ]
     },
     "metadata": {},
     "output_type": "display_data"
    }
   ],
   "source": [
    "history_dict = history.history\n",
    "acc_values = history_dict['acc']\n",
    "val_acc_values = history_dict['val_acc']\n",
    "epochs = range(1, len(acc_values) + 1)\n",
    "plt.plot(epochs, acc_values, 'bo', label='Training acc')\n",
    "plt.plot(epochs, val_acc_values, 'b', label='Validation acc')\n",
    "plt.xlabel('Epochs')\n",
    "plt.ylabel('Accuracy')\n",
    "plt.legend()\n",
    "plt.show()"
   ]
  },
  {
   "cell_type": "code",
   "execution_count": 13,
   "metadata": {},
   "outputs": [
    {
     "name": "stderr",
     "output_type": "stream",
     "text": [
      "/home/alex/anaconda3/lib/python3.6/site-packages/ipykernel_launcher.py:2: DeprecationWarning: `toimage` is deprecated!\n",
      "`toimage` is deprecated in SciPy 1.0.0, and will be removed in 1.2.0.\n",
      "Use Pillow's ``Image.fromarray`` directly instead.\n",
      "  \n"
     ]
    },
    {
     "data": {
      "image/png": "[encoded data removed]",
      "text/plain": [
       "<matplotlib.figure.Figure at 0x7f6994fbc080>"
      ]
     },
     "metadata": {},
     "output_type": "display_data"
    }
   ],
   "source": [
    "index=11\n",
    "plt.imshow(toimage(X_test[index]))\n",
    "plt.show()"
   ]
  },
  {
   "cell_type": "code",
   "execution_count": 14,
   "metadata": {},
   "outputs": [],
   "source": [
    "x = X_test[index]\n",
    "x = np.expand_dims(x, axis=0)"
   ]
  },
  {
   "cell_type": "code",
   "execution_count": 15,
   "metadata": {},
   "outputs": [
    {
     "name": "stdout",
     "output_type": "stream",
     "text": [
      "truck\n",
      "truck\n"
     ]
    }
   ],
   "source": [
    "prediction = model.predict(x)\n",
    "prediction = np.argmax(prediction)\n",
    "print(classes[prediction])\n",
    "print(classes[y_test[index][0]])"
   ]
  },
  {
   "cell_type": "code",
   "execution_count": 16,
   "metadata": {},
   "outputs": [
    {
     "data": {
      "image/png": "[encoded data removed]",
      "text/plain": [
       "<matplotlib.figure.Figure at 0x7f698c1aac88>"
      ]
     },
     "metadata": {},
     "output_type": "display_data"
    }
   ],
   "source": [
    "img_path = 'plane.jpg'\n",
    "img = image.load_img(img_path, target_size=(32, 32))\n",
    "plt.imshow(img)\n",
    "plt.show()"
   ]
  },
  {
   "cell_type": "code",
   "execution_count": 17,
   "metadata": {},
   "outputs": [],
   "source": [
    "x = image.img_to_array(img)\n",
    "x /= 255\n",
    "x = np.expand_dims(x, axis=0)"
   ]
  },
  {
   "cell_type": "code",
   "execution_count": 18,
   "metadata": {},
   "outputs": [
    {
     "name": "stdout",
     "output_type": "stream",
     "text": [
      "plane\n"
     ]
    }
   ],
   "source": [
    "prediction = model.predict(x)\n",
    "prediction = np.argmax(prediction)\n",
    "print(classes[prediction])"
   ]
  },
  {
   "cell_type": "code",
   "execution_count": null,
   "metadata": {},
   "outputs": [],
   "source": []
  }
 ],
 "metadata": {
  "kernelspec": {
   "display_name": "Python 3",
   "language": "python",
   "name": "python3"
  },
  "language_info": {
   "codemirror_mode": {
    "name": "ipython",
    "version": 3
   },
   "file_extension": ".py",
   "mimetype": "text/x-python",
   "name": "python",
   "nbconvert_exporter": "python",
   "pygments_lexer": "ipython3",
   "version": "3.6.4"
  }
 },
 "nbformat": 4,
 "nbformat_minor": 2
}
