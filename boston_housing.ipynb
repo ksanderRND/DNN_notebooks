{
 "cells": [
  {
   "cell_type": "code",
   "execution_count": 1,
   "metadata": {},
   "outputs": [
    {
     "name": "stderr",
     "output_type": "stream",
     "text": [
      "/home/alex/anaconda3/lib/python3.6/site-packages/h5py/__init__.py:36: FutureWarning: Conversion of the second argument of issubdtype from `float` to `np.floating` is deprecated. In future, it will be treated as `np.float64 == np.dtype(float).type`.\n",
      "  from ._conv import register_converters as _register_converters\n"
     ]
    }
   ],
   "source": [
    "from tensorflow.python.keras.datasets import boston_housing\n",
    "from tensorflow.python.keras.models import Sequential\n",
    "from tensorflow.python.keras.layers import Dense"
   ]
  },
  {
   "cell_type": "code",
   "execution_count": 2,
   "metadata": {},
   "outputs": [
    {
     "name": "stdout",
     "output_type": "stream",
     "text": [
      "Downloading data from https://s3.amazonaws.com/keras-datasets/boston_housing.npz\n",
      "57344/57026 [==============================] - 0s 6us/step\n"
     ]
    }
   ],
   "source": [
    "(x_train, y_train), (x_test, y_test) = boston_housing.load_data()"
   ]
  },
  {
   "cell_type": "code",
   "execution_count": 3,
   "metadata": {},
   "outputs": [],
   "source": [
    "# Data standardization\n",
    "# Mean value\n",
    "mean = x_train.mean(axis=0)\n",
    "# Standard deviation\n",
    "std = x_train.std(axis=0)\n",
    "x_train -= mean\n",
    "x_train /= std\n",
    "x_test -= mean\n",
    "x_test /= std"
   ]
  },
  {
   "cell_type": "code",
   "execution_count": 4,
   "metadata": {},
   "outputs": [
    {
     "name": "stdout",
     "output_type": "stream",
     "text": [
      "_________________________________________________________________\n",
      "Layer (type)                 Output Shape              Param #   \n",
      "=================================================================\n",
      "dense (Dense)                (None, 128)               1792      \n",
      "_________________________________________________________________\n",
      "dense_1 (Dense)              (None, 1)                 129       \n",
      "=================================================================\n",
      "Total params: 1,921\n",
      "Trainable params: 1,921\n",
      "Non-trainable params: 0\n",
      "_________________________________________________________________\n",
      "None\n"
     ]
    }
   ],
   "source": [
    "model = Sequential()\n",
    "model.add(Dense(128, activation='relu', input_shape=(x_train.shape[1],)))\n",
    "model.add(Dense(1))\n",
    "\n",
    "print(model.summary())"
   ]
  },
  {
   "cell_type": "code",
   "execution_count": 5,
   "metadata": {},
   "outputs": [],
   "source": [
    "model.compile(optimizer='adam', loss='mse', metrics=['mae'])"
   ]
  },
  {
   "cell_type": "code",
   "execution_count": 6,
   "metadata": {},
   "outputs": [
    {
     "name": "stdout",
     "output_type": "stream",
     "text": [
      "Epoch 1/100\n",
      " - 1s - loss: 292.4610 - mean_absolute_error: 14.3725\n",
      "Epoch 2/100\n",
      " - 1s - loss: 41.9297 - mean_absolute_error: 4.3501\n",
      "Epoch 3/100\n",
      " - 1s - loss: 25.4692 - mean_absolute_error: 3.3399\n",
      "Epoch 4/100\n",
      " - 1s - loss: 20.8979 - mean_absolute_error: 3.1277\n",
      "Epoch 5/100\n",
      " - 1s - loss: 17.8138 - mean_absolute_error: 2.9743\n",
      "Epoch 6/100\n",
      " - 1s - loss: 15.3885 - mean_absolute_error: 2.7249\n",
      "Epoch 7/100\n",
      " - 1s - loss: 13.5830 - mean_absolute_error: 2.5861\n",
      "Epoch 8/100\n",
      " - 1s - loss: 12.0896 - mean_absolute_error: 2.4477\n",
      "Epoch 9/100\n",
      " - 1s - loss: 11.2052 - mean_absolute_error: 2.3090\n",
      "Epoch 10/100\n",
      " - 1s - loss: 10.7160 - mean_absolute_error: 2.3121\n",
      "Epoch 11/100\n",
      " - 1s - loss: 10.3147 - mean_absolute_error: 2.2192\n",
      "Epoch 12/100\n",
      " - 1s - loss: 9.9449 - mean_absolute_error: 2.2275\n",
      "Epoch 13/100\n",
      " - 1s - loss: 9.4048 - mean_absolute_error: 2.1295\n",
      "Epoch 14/100\n",
      " - 1s - loss: 9.1298 - mean_absolute_error: 2.0964\n",
      "Epoch 15/100\n",
      " - 1s - loss: 9.0100 - mean_absolute_error: 2.1599\n",
      "Epoch 16/100\n",
      " - 1s - loss: 8.6934 - mean_absolute_error: 2.1258\n",
      "Epoch 17/100\n",
      " - 1s - loss: 8.7286 - mean_absolute_error: 2.1184\n",
      "Epoch 18/100\n",
      " - 1s - loss: 8.5194 - mean_absolute_error: 2.0553\n",
      "Epoch 19/100\n",
      " - 1s - loss: 8.4957 - mean_absolute_error: 2.0424\n",
      "Epoch 20/100\n",
      " - 1s - loss: 8.1235 - mean_absolute_error: 2.0058\n",
      "Epoch 21/100\n",
      " - 1s - loss: 8.0928 - mean_absolute_error: 2.0029\n",
      "Epoch 22/100\n",
      " - 1s - loss: 7.9680 - mean_absolute_error: 1.9940\n",
      "Epoch 23/100\n",
      " - 1s - loss: 7.6552 - mean_absolute_error: 1.9353\n",
      "Epoch 24/100\n",
      " - 1s - loss: 7.9616 - mean_absolute_error: 1.9906\n",
      "Epoch 25/100\n",
      " - 1s - loss: 7.8166 - mean_absolute_error: 1.9493\n",
      "Epoch 26/100\n",
      " - 1s - loss: 7.5154 - mean_absolute_error: 1.9202\n",
      "Epoch 27/100\n",
      " - 1s - loss: 7.4583 - mean_absolute_error: 1.9348\n",
      "Epoch 28/100\n",
      " - 1s - loss: 7.2903 - mean_absolute_error: 1.9064\n",
      "Epoch 29/100\n",
      " - 1s - loss: 7.5326 - mean_absolute_error: 1.9324\n",
      "Epoch 30/100\n",
      " - 1s - loss: 7.0742 - mean_absolute_error: 1.9060\n",
      "Epoch 31/100\n",
      " - 1s - loss: 7.2045 - mean_absolute_error: 1.8874\n",
      "Epoch 32/100\n",
      " - 1s - loss: 6.9222 - mean_absolute_error: 1.8622\n",
      "Epoch 33/100\n",
      " - 1s - loss: 6.8755 - mean_absolute_error: 1.8649\n",
      "Epoch 34/100\n",
      " - 1s - loss: 7.1592 - mean_absolute_error: 1.8874\n",
      "Epoch 35/100\n",
      " - 1s - loss: 6.9073 - mean_absolute_error: 1.8274\n",
      "Epoch 36/100\n",
      " - 1s - loss: 6.6045 - mean_absolute_error: 1.8217\n",
      "Epoch 37/100\n",
      " - 1s - loss: 6.8718 - mean_absolute_error: 1.8437\n",
      "Epoch 38/100\n",
      " - 1s - loss: 6.8519 - mean_absolute_error: 1.8271\n",
      "Epoch 39/100\n",
      " - 1s - loss: 6.6704 - mean_absolute_error: 1.8484\n",
      "Epoch 40/100\n",
      " - 1s - loss: 6.4195 - mean_absolute_error: 1.7897\n",
      "Epoch 41/100\n",
      " - 1s - loss: 6.4685 - mean_absolute_error: 1.7966\n",
      "Epoch 42/100\n",
      " - 1s - loss: 6.3533 - mean_absolute_error: 1.7749\n",
      "Epoch 43/100\n",
      " - 1s - loss: 6.5302 - mean_absolute_error: 1.8306\n",
      "Epoch 44/100\n",
      " - 1s - loss: 6.3370 - mean_absolute_error: 1.7533\n",
      "Epoch 45/100\n",
      " - 1s - loss: 6.3497 - mean_absolute_error: 1.7789\n",
      "Epoch 46/100\n",
      " - 1s - loss: 6.1927 - mean_absolute_error: 1.7316\n",
      "Epoch 47/100\n",
      " - 1s - loss: 6.3727 - mean_absolute_error: 1.7456\n",
      "Epoch 48/100\n",
      " - 1s - loss: 6.1883 - mean_absolute_error: 1.7328\n",
      "Epoch 49/100\n",
      " - 1s - loss: 6.0937 - mean_absolute_error: 1.7242\n",
      "Epoch 50/100\n",
      " - 1s - loss: 6.2975 - mean_absolute_error: 1.7876\n",
      "Epoch 51/100\n",
      " - 1s - loss: 5.8691 - mean_absolute_error: 1.7455\n",
      "Epoch 52/100\n",
      " - 1s - loss: 6.1008 - mean_absolute_error: 1.7664\n",
      "Epoch 53/100\n",
      " - 1s - loss: 6.0831 - mean_absolute_error: 1.7210\n",
      "Epoch 54/100\n",
      " - 1s - loss: 5.9611 - mean_absolute_error: 1.6991\n",
      "Epoch 55/100\n",
      " - 1s - loss: 6.0030 - mean_absolute_error: 1.7117\n",
      "Epoch 56/100\n",
      " - 1s - loss: 5.8094 - mean_absolute_error: 1.7066\n",
      "Epoch 57/100\n",
      " - 1s - loss: 5.9065 - mean_absolute_error: 1.7052\n",
      "Epoch 58/100\n",
      " - 1s - loss: 5.6588 - mean_absolute_error: 1.6492\n",
      "Epoch 59/100\n",
      " - 1s - loss: 5.9510 - mean_absolute_error: 1.7142\n",
      "Epoch 60/100\n",
      " - 1s - loss: 5.7772 - mean_absolute_error: 1.6827\n",
      "Epoch 61/100\n",
      " - 1s - loss: 5.6840 - mean_absolute_error: 1.6904\n",
      "Epoch 62/100\n",
      " - 1s - loss: 5.7303 - mean_absolute_error: 1.6919\n",
      "Epoch 63/100\n",
      " - 1s - loss: 5.7124 - mean_absolute_error: 1.7163\n",
      "Epoch 64/100\n",
      " - 1s - loss: 5.5893 - mean_absolute_error: 1.6931\n",
      "Epoch 65/100\n",
      " - 1s - loss: 5.5228 - mean_absolute_error: 1.6473\n",
      "Epoch 66/100\n",
      " - 1s - loss: 5.7964 - mean_absolute_error: 1.6904\n",
      "Epoch 67/100\n",
      " - 1s - loss: 5.4982 - mean_absolute_error: 1.6437\n",
      "Epoch 68/100\n",
      " - 1s - loss: 5.4339 - mean_absolute_error: 1.6358\n",
      "Epoch 69/100\n",
      " - 1s - loss: 5.5230 - mean_absolute_error: 1.6636\n",
      "Epoch 70/100\n",
      " - 1s - loss: 5.5221 - mean_absolute_error: 1.6391\n",
      "Epoch 71/100\n",
      " - 1s - loss: 5.3934 - mean_absolute_error: 1.6270\n",
      "Epoch 72/100\n",
      " - 1s - loss: 5.3379 - mean_absolute_error: 1.6094\n",
      "Epoch 73/100\n",
      " - 1s - loss: 5.3427 - mean_absolute_error: 1.6502\n",
      "Epoch 74/100\n",
      " - 1s - loss: 5.1052 - mean_absolute_error: 1.6351\n",
      "Epoch 75/100\n",
      " - 1s - loss: 5.3825 - mean_absolute_error: 1.6174\n",
      "Epoch 76/100\n",
      " - 1s - loss: 5.2864 - mean_absolute_error: 1.6268\n",
      "Epoch 77/100\n",
      " - 1s - loss: 5.1074 - mean_absolute_error: 1.5815\n",
      "Epoch 78/100\n",
      " - 1s - loss: 4.9383 - mean_absolute_error: 1.5615\n",
      "Epoch 79/100\n",
      " - 1s - loss: 5.1437 - mean_absolute_error: 1.6375\n",
      "Epoch 80/100\n",
      " - 1s - loss: 5.0931 - mean_absolute_error: 1.6092\n",
      "Epoch 81/100\n",
      " - 1s - loss: 5.0974 - mean_absolute_error: 1.5623\n",
      "Epoch 82/100\n",
      " - 1s - loss: 5.0872 - mean_absolute_error: 1.5749\n",
      "Epoch 83/100\n",
      " - 1s - loss: 5.0848 - mean_absolute_error: 1.5957\n",
      "Epoch 84/100\n",
      " - 1s - loss: 5.0235 - mean_absolute_error: 1.5784\n",
      "Epoch 85/100\n",
      " - 1s - loss: 4.8875 - mean_absolute_error: 1.5759\n",
      "Epoch 86/100\n",
      " - 1s - loss: 5.1378 - mean_absolute_error: 1.6071\n",
      "Epoch 87/100\n",
      " - 1s - loss: 4.9348 - mean_absolute_error: 1.6031\n",
      "Epoch 88/100\n",
      " - 1s - loss: 5.0129 - mean_absolute_error: 1.5647\n",
      "Epoch 89/100\n",
      " - 1s - loss: 4.9659 - mean_absolute_error: 1.5993\n",
      "Epoch 90/100\n",
      " - 1s - loss: 4.9499 - mean_absolute_error: 1.5689\n",
      "Epoch 91/100\n",
      " - 1s - loss: 4.7260 - mean_absolute_error: 1.5048\n",
      "Epoch 92/100\n",
      " - 1s - loss: 4.7511 - mean_absolute_error: 1.5500\n",
      "Epoch 93/100\n",
      " - 1s - loss: 4.8908 - mean_absolute_error: 1.5640\n",
      "Epoch 94/100\n",
      " - 1s - loss: 4.6948 - mean_absolute_error: 1.5501\n",
      "Epoch 95/100\n",
      " - 1s - loss: 4.6825 - mean_absolute_error: 1.5360\n",
      "Epoch 96/100\n",
      " - 1s - loss: 4.7131 - mean_absolute_error: 1.5606\n",
      "Epoch 97/100\n",
      " - 1s - loss: 4.6815 - mean_absolute_error: 1.5726\n",
      "Epoch 98/100\n",
      " - 1s - loss: 4.5894 - mean_absolute_error: 1.5342\n",
      "Epoch 99/100\n",
      " - 1s - loss: 4.6541 - mean_absolute_error: 1.5341\n",
      "Epoch 100/100\n",
      " - 1s - loss: 4.6924 - mean_absolute_error: 1.5245\n"
     ]
    },
    {
     "data": {
      "text/plain": [
       "<tensorflow.python.keras.callbacks.History at 0x7f1c21e14630>"
      ]
     },
     "execution_count": 6,
     "metadata": {},
     "output_type": "execute_result"
    }
   ],
   "source": [
    "model.fit(x_train, y_train, epochs=100, batch_size=1, verbose=2)"
   ]
  },
  {
   "cell_type": "code",
   "execution_count": 7,
   "metadata": {},
   "outputs": [
    {
     "name": "stdout",
     "output_type": "stream",
     "text": [
      "Mean absolute error:  2.484043373781092\n"
     ]
    }
   ],
   "source": [
    "mse, mae = model.evaluate(x_test, y_test, verbose=0)\n",
    "print(\"Mean absolute error: \", mae)"
   ]
  },
  {
   "cell_type": "code",
   "execution_count": 8,
   "metadata": {},
   "outputs": [
    {
     "name": "stdout",
     "output_type": "stream",
     "text": [
      "18.421211 18.8\n",
      "34.742775 35.4\n",
      "32.06889 26.7\n"
     ]
    }
   ],
   "source": [
    "#Using network for predictions:\n",
    "pred = model.predict(x_test)\n",
    "\n",
    "print(pred[1][0], y_test[1])\n",
    "print(pred[50][0], y_test[50])\n",
    "print(pred[100][0], y_test[100])"
   ]
  },
  {
   "cell_type": "code",
   "execution_count": null,
   "metadata": {},
   "outputs": [],
   "source": []
  }
 ],
 "metadata": {
  "kernelspec": {
   "display_name": "Python 3",
   "language": "python",
   "name": "python3"
  },
  "language_info": {
   "codemirror_mode": {
    "name": "ipython",
    "version": 3
   },
   "file_extension": ".py",
   "mimetype": "text/x-python",
   "name": "python",
   "nbconvert_exporter": "python",
   "pygments_lexer": "ipython3",
   "version": "3.6.4"
  }
 },
 "nbformat": 4,
 "nbformat_minor": 2
}
